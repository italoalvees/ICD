{
 "cells": [
  {
   "cell_type": "markdown",
   "metadata": {},
   "source": [
    "# Introdução à Ciência de Dados - UFPB\n",
    "Professor: Yuri Malheiros\n",
    "\n",
    "## Pandas"
   ]
  },
  {
   "cell_type": "markdown",
   "metadata": {},
   "source": [
    "A partir do dataset `movies.csv` utilize o Pandas para responder as seguintes perguntas:"
   ]
  },
  {
   "cell_type": "code",
   "execution_count": 7,
   "metadata": {},
   "outputs": [
    {
     "data": {
      "text/plain": [
       "Index(['Title', 'US Gross', 'Worldwide Gross', 'US DVD Sales',\n",
       "       'Production Budget', 'Release Date', 'MPAA Rating',\n",
       "       'Running Time (min)', 'Distributor', 'Source', 'Major Genre',\n",
       "       'Creative Type', 'Director', 'Rotten Tomatoes Rating', 'IMDB Rating',\n",
       "       'IMDB Votes'],\n",
       "      dtype='object')"
      ]
     },
     "execution_count": 7,
     "metadata": {},
     "output_type": "execute_result"
    }
   ],
   "source": [
    "import pandas as pd\n",
    "\n",
    "file = pd.read_csv(\"movies.csv\")\n",
    "\n",
    "file.columns"
   ]
  },
  {
   "cell_type": "markdown",
   "metadata": {},
   "source": [
    "### Qual o gênero de filme mais lucrativo em todo o mundo?"
   ]
  },
  {
   "cell_type": "code",
   "execution_count": 33,
   "metadata": {},
   "outputs": [
    {
     "data": {
      "text/plain": [
       "Major Genre\n",
       "Adventure              6.608096e+10\n",
       "Action                 6.043561e+10\n",
       "Comedy                 5.038405e+10\n",
       "Drama                  4.047617e+10\n",
       "Thriller/Suspense      1.926069e+10\n",
       "Horror                 1.332168e+10\n",
       "Romantic Comedy        1.186665e+10\n",
       "Musical                3.904838e+09\n",
       "Western                1.301373e+09\n",
       "Black Comedy           8.246719e+08\n",
       "Documentary            6.989444e+08\n",
       "Concert/Performance    1.536220e+08\n",
       "Name: Worldwide Gross, dtype: float64"
      ]
     },
     "execution_count": 33,
     "metadata": {},
     "output_type": "execute_result"
    }
   ],
   "source": [
    "GenreMostLucrative = file.groupby(\"Major Genre\").sum()[\"Worldwide Gross\"]\n",
    "\n",
    "GenreMostLucrative.sort_values(ascending = False)"
   ]
  },
  {
   "cell_type": "markdown",
   "metadata": {},
   "source": [
    "### O gênero de filme mais lucrativo em todo o mundo é Aventura, com mais de 66 bilhões de dólares arrecadados."
   ]
  },
  {
   "cell_type": "markdown",
   "metadata": {},
   "source": [
    "### Qual o diretor dirigiu mais filmes?"
   ]
  },
  {
   "cell_type": "code",
   "execution_count": 46,
   "metadata": {
    "scrolled": true
   },
   "outputs": [
    {
     "data": {
      "text/plain": [
       "Director\n",
       "Steven Spielberg        23\n",
       "Woody Allen             16\n",
       "Martin Scorsese         15\n",
       "Spike Lee               15\n",
       "Ridley Scott            14\n",
       "Brian De Palma          13\n",
       "Francis Ford Coppola    13\n",
       "Steven Soderbergh       12\n",
       "Richard Donner          12\n",
       "Robert Zemeckis         12\n",
       "dtype: int64"
      ]
     },
     "execution_count": 46,
     "metadata": {},
     "output_type": "execute_result"
    }
   ],
   "source": [
    "file.groupby(\"Director\").size().sort_values(ascending = False)[0:10]\n"
   ]
  },
  {
   "cell_type": "markdown",
   "metadata": {},
   "source": [
    "### O diretor que dirigiu mais filmes é Steven Spielberg com um total de 23 filmes dirigidos."
   ]
  },
  {
   "cell_type": "markdown",
   "metadata": {},
   "source": [
    "### Quais filmes tiverem os maiores arrecadações (Gross) em relação ao orçamento de produção (Budget)?"
   ]
  },
  {
   "cell_type": "code",
   "execution_count": 58,
   "metadata": {},
   "outputs": [
    {
     "data": {
      "text/html": [
       "<div>\n",
       "<style scoped>\n",
       "    .dataframe tbody tr th:only-of-type {\n",
       "        vertical-align: middle;\n",
       "    }\n",
       "\n",
       "    .dataframe tbody tr th {\n",
       "        vertical-align: top;\n",
       "    }\n",
       "\n",
       "    .dataframe thead th {\n",
       "        text-align: right;\n",
       "    }\n",
       "</style>\n",
       "<table border=\"1\" class=\"dataframe\">\n",
       "  <thead>\n",
       "    <tr style=\"text-align: right;\">\n",
       "      <th></th>\n",
       "      <th>Profit</th>\n",
       "    </tr>\n",
       "    <tr>\n",
       "      <th>Title</th>\n",
       "      <th></th>\n",
       "    </tr>\n",
       "  </thead>\n",
       "  <tbody>\n",
       "    <tr>\n",
       "      <th>Avatar</th>\n",
       "      <td>2.530891e+09</td>\n",
       "    </tr>\n",
       "    <tr>\n",
       "      <th>Titanic</th>\n",
       "      <td>1.642880e+09</td>\n",
       "    </tr>\n",
       "    <tr>\n",
       "      <th>The Lord of the Rings: The Return of the King</th>\n",
       "      <td>1.039027e+09</td>\n",
       "    </tr>\n",
       "    <tr>\n",
       "      <th>Jurassic Park</th>\n",
       "      <td>8.600679e+08</td>\n",
       "    </tr>\n",
       "    <tr>\n",
       "      <th>Harry Potter and the Sorcerer's Stone</th>\n",
       "      <td>8.514579e+08</td>\n",
       "    </tr>\n",
       "    <tr>\n",
       "      <th>Shrek 2</th>\n",
       "      <td>8.498388e+08</td>\n",
       "    </tr>\n",
       "    <tr>\n",
       "      <th>Toy Story 3</th>\n",
       "      <td>8.463407e+08</td>\n",
       "    </tr>\n",
       "    <tr>\n",
       "      <th>Pirates of the Caribbean: Dead Man's Chest</th>\n",
       "      <td>8.406598e+08</td>\n",
       "    </tr>\n",
       "    <tr>\n",
       "      <th>The Dark Knight</th>\n",
       "      <td>8.373454e+08</td>\n",
       "    </tr>\n",
       "    <tr>\n",
       "      <th>The Lord of the Rings: The Two Towers</th>\n",
       "      <td>8.322844e+08</td>\n",
       "    </tr>\n",
       "  </tbody>\n",
       "</table>\n",
       "</div>"
      ],
      "text/plain": [
       "                                                     Profit\n",
       "Title                                                      \n",
       "Avatar                                         2.530891e+09\n",
       "Titanic                                        1.642880e+09\n",
       "The Lord of the Rings: The Return of the King  1.039027e+09\n",
       "Jurassic Park                                  8.600679e+08\n",
       "Harry Potter and the Sorcerer's Stone          8.514579e+08\n",
       "Shrek 2                                        8.498388e+08\n",
       "Toy Story 3                                    8.463407e+08\n",
       "Pirates of the Caribbean: Dead Man's Chest     8.406598e+08\n",
       "The Dark Knight                                8.373454e+08\n",
       "The Lord of the Rings: The Two Towers          8.322844e+08"
      ]
     },
     "execution_count": 58,
     "metadata": {},
     "output_type": "execute_result"
    }
   ],
   "source": [
    "file[\"Profit\"] = file['Worldwide Gross'] - file['Production Budget']\n",
    "\n",
    "file[['Title','Profit']].sort_values(by = \"Profit\",ascending = False).set_index(\"Title\")[0:10]\n"
   ]
  },
  {
   "cell_type": "markdown",
   "metadata": {},
   "source": [
    "### O filme com maior lucro é Avatar com mais de 2,5 bilhões de dólares de lucro."
   ]
  }
 ],
 "metadata": {
  "kernelspec": {
   "display_name": "Python 3.7.6 64-bit ('base')",
   "language": "python",
   "name": "python37664bitbase726e5c05b9dd4ed9811fe9970cd9da98"
  },
  "language_info": {
   "codemirror_mode": {
    "name": "ipython",
    "version": 3
   },
   "file_extension": ".py",
   "mimetype": "text/x-python",
   "name": "python",
   "nbconvert_exporter": "python",
   "pygments_lexer": "ipython3",
   "version": "3.7.6"
  }
 },
 "nbformat": 4,
 "nbformat_minor": 4
}
