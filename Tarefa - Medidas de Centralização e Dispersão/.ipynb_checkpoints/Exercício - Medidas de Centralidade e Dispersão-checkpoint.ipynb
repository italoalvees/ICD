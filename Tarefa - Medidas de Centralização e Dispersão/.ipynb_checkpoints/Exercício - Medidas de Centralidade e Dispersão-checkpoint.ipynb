{
 "cells": [
  {
   "cell_type": "markdown",
   "metadata": {},
   "source": [
    "# Introdução à Ciência de Dados - UFPB\n",
    "Professor: Yuri Malheiros\n",
    "\n",
    "## Medidas de Centralidade e Dispersão"
   ]
  },
  {
   "cell_type": "markdown",
   "metadata": {},
   "source": [
    "A partir do dataset `movies.csv` calcule a média, mediana e desvio padrão para as colunas:"
   ]
  },
  {
   "cell_type": "code",
   "execution_count": 94,
   "metadata": {},
   "outputs": [
    {
     "data": {
      "text/plain": [
       "Index(['Title', 'US Gross', 'Worldwide Gross', 'US DVD Sales',\n",
       "       'Production Budget', 'Release Date', 'MPAA Rating',\n",
       "       'Running Time (min)', 'Distributor', 'Source', 'Major Genre',\n",
       "       'Creative Type', 'Director', 'Rotten Tomatoes Rating', 'IMDB Rating',\n",
       "       'IMDB Votes'],\n",
       "      dtype='object')"
      ]
     },
     "execution_count": 94,
     "metadata": {},
     "output_type": "execute_result"
    }
   ],
   "source": [
    "import pandas as pd\n",
    "import numpy as np\n",
    "\n",
    "df = pd.read_csv('movies.csv')\n",
    "\n",
    "\n",
    "\n",
    "finaldf = []\n",
    "\n",
    "def Results(name,coluna):\n",
    "    média = coluna.mean()\n",
    "    \n",
    "    mediana = coluna.median()\n",
    "\n",
    "    desvio = coluna.std()\n",
    "    \n",
    "    return [name, média, mediana, desvio]\n",
    "\n",
    "df.columns"
   ]
  },
  {
   "cell_type": "markdown",
   "metadata": {},
   "source": [
    "### US Gross"
   ]
  },
  {
   "cell_type": "code",
   "execution_count": 95,
   "metadata": {},
   "outputs": [
    {
     "name": "stdout",
     "output_type": "stream",
     "text": [
      "62555311.39066204 62555311.39066204\n"
     ]
    }
   ],
   "source": [
    "finaldf += [Results('US Gross', df['US Gross'])] "
   ]
  },
  {
   "cell_type": "markdown",
   "metadata": {},
   "source": [
    "### Production Budget"
   ]
  },
  {
   "cell_type": "code",
   "execution_count": 96,
   "metadata": {},
   "outputs": [
    {
     "name": "stdout",
     "output_type": "stream",
     "text": [
      "35585913.44464446 35585913.44464446\n"
     ]
    }
   ],
   "source": [
    "finaldf += [Results('Production Budget', df['Production Budget'])] "
   ]
  },
  {
   "cell_type": "markdown",
   "metadata": {},
   "source": [
    "### Running Time"
   ]
  },
  {
   "cell_type": "code",
   "execution_count": 97,
   "metadata": {},
   "outputs": [
    {
     "name": "stdout",
     "output_type": "stream",
     "text": [
      "20.171013677535424 20.171013677535424\n"
     ]
    }
   ],
   "source": [
    "finaldf += [Results('Running Time (min)', df['Running Time (min)'])]"
   ]
  },
  {
   "cell_type": "markdown",
   "metadata": {},
   "source": [
    "### IMDB Rating"
   ]
  },
  {
   "cell_type": "code",
   "execution_count": 98,
   "metadata": {},
   "outputs": [
    {
     "name": "stdout",
     "output_type": "stream",
     "text": [
      "1.2522899386004838 1.2522899386004838\n"
     ]
    }
   ],
   "source": [
    "finaldf += [Results('IMDB Rating', df['IMDB Rating'])] "
   ]
  },
  {
   "cell_type": "markdown",
   "metadata": {},
   "source": [
    "### IMDB Votes"
   ]
  },
  {
   "cell_type": "code",
   "execution_count": 99,
   "metadata": {},
   "outputs": [
    {
     "name": "stdout",
     "output_type": "stream",
     "text": [
      "44937.58233504965 44937.58233504965\n"
     ]
    },
    {
     "data": {
      "text/html": [
       "<div>\n",
       "<style scoped>\n",
       "    .dataframe tbody tr th:only-of-type {\n",
       "        vertical-align: middle;\n",
       "    }\n",
       "\n",
       "    .dataframe tbody tr th {\n",
       "        vertical-align: top;\n",
       "    }\n",
       "\n",
       "    .dataframe thead th {\n",
       "        text-align: right;\n",
       "    }\n",
       "</style>\n",
       "<table border=\"1\" class=\"dataframe\">\n",
       "  <thead>\n",
       "    <tr style=\"text-align: right;\">\n",
       "      <th></th>\n",
       "      <th>Coluna</th>\n",
       "      <th>Média</th>\n",
       "      <th>Mediana</th>\n",
       "      <th>Desvio Padrão</th>\n",
       "    </tr>\n",
       "  </thead>\n",
       "  <tbody>\n",
       "    <tr>\n",
       "      <th>0</th>\n",
       "      <td>US Gross</td>\n",
       "      <td>4.400209e+07</td>\n",
       "      <td>22019465.5</td>\n",
       "      <td>6.255531e+07</td>\n",
       "    </tr>\n",
       "    <tr>\n",
       "      <th>1</th>\n",
       "      <td>Production Budget</td>\n",
       "      <td>3.106917e+07</td>\n",
       "      <td>20000000.0</td>\n",
       "      <td>3.558591e+07</td>\n",
       "    </tr>\n",
       "    <tr>\n",
       "      <th>2</th>\n",
       "      <td>Running Time (min)</td>\n",
       "      <td>1.101935e+02</td>\n",
       "      <td>107.0</td>\n",
       "      <td>2.017101e+01</td>\n",
       "    </tr>\n",
       "    <tr>\n",
       "      <th>3</th>\n",
       "      <td>IMDB Rating</td>\n",
       "      <td>6.283467e+00</td>\n",
       "      <td>6.4</td>\n",
       "      <td>1.252290e+00</td>\n",
       "    </tr>\n",
       "    <tr>\n",
       "      <th>4</th>\n",
       "      <td>IMDB Votes</td>\n",
       "      <td>2.990864e+04</td>\n",
       "      <td>15106.0</td>\n",
       "      <td>4.493758e+04</td>\n",
       "    </tr>\n",
       "  </tbody>\n",
       "</table>\n",
       "</div>"
      ],
      "text/plain": [
       "               Coluna         Média     Mediana  Desvio Padrão\n",
       "0            US Gross  4.400209e+07  22019465.5   6.255531e+07\n",
       "1   Production Budget  3.106917e+07  20000000.0   3.558591e+07\n",
       "2  Running Time (min)  1.101935e+02       107.0   2.017101e+01\n",
       "3         IMDB Rating  6.283467e+00         6.4   1.252290e+00\n",
       "4          IMDB Votes  2.990864e+04     15106.0   4.493758e+04"
      ]
     },
     "execution_count": 99,
     "metadata": {},
     "output_type": "execute_result"
    }
   ],
   "source": [
    "finaldf += [Results('IMDB Votes', df['IMDB Votes'])] \n",
    "\n",
    "results = pd.DataFrame(finaldf, columns = [\"Coluna\", \"Média\", \"Mediana\", \"Desvio Padrão\"])\n",
    "\n",
    "results"
   ]
  },
  {
   "cell_type": "markdown",
   "metadata": {},
   "source": [
    "### Análise dos Resultados\n",
    "\n",
    "Quais colunas tiveram valores muito diferentes entre média e mediana? Quais os seus desvios padrão?"
   ]
  },
  {
   "cell_type": "markdown",
   "metadata": {},
   "source": [
    "**Resposta:**\n",
    "    As maiores diferenças entre média e mediana, vieram das colunas US Gross onde a média é 44 milhões, a mediana é 22 milhões e o desvio padrão , Production Budget onde a média é "
   ]
  },
  {
   "cell_type": "markdown",
   "metadata": {},
   "source": [
    "Que conclusões podemos tirar desses resultados?"
   ]
  },
  {
   "cell_type": "markdown",
   "metadata": {},
   "source": [
    "**RESPONDA AQUI**"
   ]
  }
 ],
 "metadata": {
  "kernelspec": {
   "display_name": "Python 3.7.6 64-bit ('base')",
   "language": "python",
   "name": "python37664bitbase726e5c05b9dd4ed9811fe9970cd9da98"
  },
  "language_info": {
   "codemirror_mode": {
    "name": "ipython",
    "version": 3
   },
   "file_extension": ".py",
   "mimetype": "text/x-python",
   "name": "python",
   "nbconvert_exporter": "python",
   "pygments_lexer": "ipython3",
   "version": "3.7.6"
  }
 },
 "nbformat": 4,
 "nbformat_minor": 4
}
